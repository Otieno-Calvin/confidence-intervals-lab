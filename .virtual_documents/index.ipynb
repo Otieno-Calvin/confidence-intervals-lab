





# Import necessary libraries
import numpy as np
import scipy as sp
import pandas as pd
import scipy.stats as stats
import seaborn as sns
import matplotlib.pyplot as plt
import math

# Plot styles
plt.style.use('fivethirtyeight')
%config InlineBackend.figure_format = 'retina'
%matplotlib inline





np.random.seed(15)
population_ages1 = stats.poisson.rvs(loc=18, mu=35, size=150000)
population_ages2 = stats.poisson.rvs(loc=18, mu=10, size=100000)
population_ages = np.concatenate((population_ages1, population_ages2))






# Convert the population into a pandas dataframe pop_ages
pop_ages = pd.DataFrame({'Ages':population_ages} )

# Calculate and print descriptive statistics for pop_ages

print(f' The mean of population is : {np.mean(population_ages)} ')
pop_ages.describe()
# The mean of population is: 42.985332

# count	250000 
# mean	42.985332
# std	13.211628
# min	18.000000
# 25%	29.000000
# 50%	47.000000
# 75%	54.000000
# max	84.000000



# Draw a histogram for pop ages

plt.hist(pop_ages['Ages'] , bins =20 ,edgecolor='black' )
plt.xlabel('Population Ages')
plt.ylabel('Frequency')
plt.title('Population Ages Frequency')
plt.show()





np.random.seed(15)

# Take random sample of size 500
sample_size = 500
sample = np.random.choice(pop_ages['Ages'],size =sample_size)

# Calculate sample mean and standard deviation
sample_mean = np.mean(sample)
sample_std = np.std(sample)

print ("Sample mean:", sample_mean)
print ("Sample std.:", sample_std)
print ("Difference between means:", population_ages.mean() - sample_mean)

# Sample mean: 43.49 
# Sample std.: 12.98529552994463
# Difference between means: -0.5046680000000023





np.random.seed(15)

point_estimates = []         # Make empty list to hold point estimates

# Take 100 samples and generate 100 point estimates using a for loop. 
for i in range(1,101):
    sample = np.random.choice(pop_ages['Ages'],size =sample_size)
    sample_mean = sample.mean()
    point_estimates.append(sample_mean)


point_estimates_df=pd.DataFrame(point_estimates,columns=['Point_Estimates'])

point_estimates_df.describe()
    
    
    
# append sample means to get point estimates


# Convert the point_estimates into a pandas dataframe
# Calculate and print descriptive statistics for the dataframe

# count	100.000000
# mean	42.959380
# std	0.586404
# min	41.296000
# 25%	42.530000
# 50%	42.960000
# 75%	43.356000
# max	44.492000






#Visualize the point estimates by plotting a density plot (use pandas)
point_estimates_df['Point_Estimates'].plot(kind='density')
plt.title('point estimates')
plt.show()








def conf_interval(pop, sample):
    '''
    Function input: population , sample 
    Function output: z-critical, Margin of error, Confidence interval
    '''
    sample_size = 500
    n = len(sample)
    x_hat = sample.mean()

    # Calculate the z-critical value using stats.norm.ppf()
    # Note that we use stats.norm.ppf(q = 0.975) to get the desired z-critical value 
    # instead of q = 0.95 because the distribution has two tails.
    z = stats.norm.ppf(q=0.975, loc=0 , scale=1)#)  z-critical value for 95% confidence

    #Calculate the population std from data
    pop_stdev = pop.std()

    # Calculate the margin of error using formula given above
    moe = z*(pop_stdev/np.sqrt(n))

    # Calculate the confidence interval by applying margin of error to sample mean 
    # (mean - margin of error, mean+ margin of error)
    conf = (x_hat - moe,x_hat + moe)
    
    return z, moe, conf

# Call above function with sample and population 
z_critical, margin_of_error, confidence_interval = conf_interval(population_ages, sample)    
    
    

print("z-critical value:")              
print(z_critical)         
print ('\nMargin of error')
print(margin_of_error)
print("\nConfidence interval:")
print(confidence_interval)

# z-critical value:
# 1.959963984540054

# Margin of error
# 1.158026699800684

# Confidence interval:
# (41.86997330019931, 44.186026699800685)








np.random.seed(12)

# Select the sample size 
sample_size = 1000

# Initialize lists to store interval and mean values
intervals = []
sample_means = []

# Run a for loop for sampling 25 times and calculate + store confidence interval and sample mean values

for sample in range(25):
    # Take a random sample of chosen size 
    sample = np.random.choice(pop_ages['Ages'],size=sample_size)
    # Calculate z_critical, margin_of_error, confidence_interval from function above
    z_critical, margin_of_error, confidence_interval = conf_interval(population_ages, sample)
    sample_mean = sample.mean()
    sample_means.append(sample_mean)
    intervals.append(confidence_interval)
 
    
    # Calculate and append sample means and conf intervals for each iteration




# plot the mean and confidence interval for each sample as error bars
# plot the population mean 

plt.figure(figsize=(15,9))


# Prepare error bars
yerr = np.array([[sample_means[i] - intervals[i][0], intervals[i][1] - sample_means[i]] for i in range(len(sample_means))]).T

# Plot error bars for each sample mean and its confidence interval
plt.errorbar(range(len(sample_means)), sample_means, yerr=yerr, fmt='o', color='blue', ecolor='red', elinewidth=2, capsize=4)

# Plot the population mean as a horizontal line
plt.axhline(y=np.mean(population_ages), color='green', linestyle='--', label='Population Mean')

# Add titles and labels
plt.title('Sample Means with Confidence Intervals')
plt.xlabel('Sample Number')
plt.ylabel('Age')
plt.legend()


# Show the plot
plt.show()







